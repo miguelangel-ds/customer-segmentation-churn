{
 "cells": [
  {
   "cell_type": "markdown",
   "id": "6ec78d88",
   "metadata": {},
   "source": [
    "# 🛍️ Segmentación de Clientes de E-Commerce\n",
    "\n",
    "Este proyecto tiene como objetivo identificar distintos grupos de clientes con base en su edad, ingresos y comportamiento de compra, utilizando **clustering (K-Means)** y análisis exploratorio de datos (**EDA**) en Python.\n",
    "\n",
    "Se busca responder preguntas como:\n",
    "- ¿Qué tipo de clientes gastan más?\n",
    "- ¿Qué grupos tienen mayor tasa de abandono?\n",
    "- ¿Qué estrategias podrían ayudar a retener a los clientes más valiosos?\n",
    "\n"
   ]
  },
  {
   "cell_type": "code",
   "execution_count": null,
   "id": "bd09c411-81b4-412d-88f5-14453985a865",
   "metadata": {},
   "outputs": [],
   "source": [
    "import pandas as pd\n",
    "\n",
    "df = pd.read_csv(\"C:/Users/migue/OneDrive/Escritorio/Analisis Datos/Semana_5/data/ecommerce_customers_dirty.csv\")"
   ]
  },
  {
   "cell_type": "code",
   "execution_count": null,
   "id": "07b270d3-6ac8-458f-b667-1166ac8db122",
   "metadata": {},
   "outputs": [],
   "source": [
    "df.info()"
   ]
  },
  {
   "cell_type": "code",
   "execution_count": null,
   "id": "7cbb2859-3fc5-4b58-91b5-b051ae2e92e3",
   "metadata": {},
   "outputs": [],
   "source": [
    "df.describe()"
   ]
  },
  {
   "cell_type": "code",
   "execution_count": null,
   "id": "a52305bb-7c52-4189-ada6-2a3c2e0f6d87",
   "metadata": {},
   "outputs": [],
   "source": [
    "df.head()"
   ]
  },
  {
   "cell_type": "code",
   "execution_count": null,
   "id": "f759811b-5510-48c3-909d-14af28239116",
   "metadata": {},
   "outputs": [],
   "source": [
    "df.isnull().sum()"
   ]
  },
  {
   "cell_type": "code",
   "execution_count": null,
   "id": "9a5f481d-5715-4b58-a453-fae231d7e80d",
   "metadata": {},
   "outputs": [],
   "source": [
    "def detect_outliers_iqr(df, columna):\n",
    "\n",
    "    q1 = df[columna].quantile(0.25)\n",
    "    q3 = df[columna].quantile(0.75)\n",
    "    iqr = q3 - q1\n",
    "\n",
    "    limite_inferior = q1 - 1.5*iqr\n",
    "    limite_superior = q3 + 1.5*iqr\n",
    "\n",
    "    df[f\"{columna}_es_outlier\"] = (df[columna] < limite_inferior) | (df[columna] > limite_superior)\n",
    "\n",
    "    print(f\"🔍 Outliers detectados en '{columna}': {df[f'{columna}_es_outlier'].sum()}\")\n",
    "    return df"
   ]
  },
  {
   "cell_type": "code",
   "execution_count": null,
   "id": "c46c487e-21f4-4e72-80b3-6188b2c82b57",
   "metadata": {},
   "outputs": [],
   "source": [
    "# Detectar outliers en Age\n",
    "\n",
    "df = detect_outliers_iqr(df, \"Age\")"
   ]
  },
  {
   "cell_type": "code",
   "execution_count": null,
   "id": "05409e6b-a325-49c7-be9b-858b0196f0e0",
   "metadata": {
    "scrolled": true
   },
   "outputs": [],
   "source": [
    "df[df[\"Age_es_outlier\"] == True]"
   ]
  },
  {
   "cell_type": "code",
   "execution_count": null,
   "id": "863dd676-22bc-4739-9c53-3afe5380aa6e",
   "metadata": {},
   "outputs": [],
   "source": [
    "# Imputar con mediana los valores negativos y nulos\n",
    "\n",
    "mediana_edad = df['Age'].median()\n",
    "df.loc[df['Age'] < 0, 'Age'] = mediana_edad\n",
    "\n",
    "df['Age'] = df['Age'].fillna(mediana_edad)"
   ]
  },
  {
   "cell_type": "code",
   "execution_count": null,
   "id": "6121803b-f1ea-4ff8-b8fd-52b5a5f81a41",
   "metadata": {},
   "outputs": [],
   "source": [
    "# Imputar nulos con moda para el genero\n",
    "\n",
    "moda_genero = df['Gender'].mode()[0]\n",
    "df['Gender'] = df['Gender'].fillna(moda_genero)"
   ]
  },
  {
   "cell_type": "code",
   "execution_count": null,
   "id": "94929ee4-0eb8-449e-b9e1-1486f6f66241",
   "metadata": {},
   "outputs": [],
   "source": [
    "# Detectar outliers en Spending_Score\n",
    "\n",
    "df = detect_outliers_iqr(df, \"Spending_Score\")\n",
    "df[df[\"Spending_Score_es_outlier\"] == True]"
   ]
  },
  {
   "cell_type": "code",
   "execution_count": null,
   "id": "f79e636a-8a20-44d5-b756-d43317aa9553",
   "metadata": {},
   "outputs": [],
   "source": [
    "# Imputar con mediana los valores negativos\n",
    "\n",
    "mediana_ss = df['Age'].median()\n",
    "df.loc[df['Spending_Score'] < 0, 'Spending_Score'] = mediana_ss"
   ]
  },
  {
   "cell_type": "code",
   "execution_count": null,
   "id": "566c2876-4be1-481d-85a2-8e0d030335c9",
   "metadata": {},
   "outputs": [],
   "source": [
    "# Detectar outliers en Annual_Income_USD\n",
    "\n",
    "df = detect_outliers_iqr(df, \"Annual_Income_USD\")\n",
    "df[df[\"Annual_Income_USD_es_outlier\"] == True]"
   ]
  },
  {
   "cell_type": "code",
   "execution_count": null,
   "id": "75fb08c4-c792-4a1b-8c88-c8f0814c8bcb",
   "metadata": {},
   "outputs": [],
   "source": [
    "# Imputar con mediana los valores negativos y nulos\n",
    "\n",
    "mediana_aiusd = df['Annual_Income_USD'].median()\n",
    "df.loc[df['Annual_Income_USD'] < 0, 'Annual_Income_USD'] = mediana_aiusd\n",
    "\n",
    "df['Annual_Income_USD'] = df['Annual_Income_USD'].fillna(mediana_aiusd)"
   ]
  },
  {
   "cell_type": "code",
   "execution_count": null,
   "id": "d21111c8-122f-4c32-b5fb-553035940815",
   "metadata": {},
   "outputs": [],
   "source": [
    "# Imputar con moda los nulos en la columna Churned\n",
    "\n",
    "moda_churned = df['Churned'].mode()[0]\n",
    "df['Churned'] = df['Churned'].fillna(moda_churned)"
   ]
  },
  {
   "cell_type": "code",
   "execution_count": null,
   "id": "c9dbe346-b7b0-4fbd-a6a9-916e24aedc38",
   "metadata": {},
   "outputs": [],
   "source": [
    "df[\"Country\"].unique()\n",
    "df[\"Country\"].value_counts()"
   ]
  },
  {
   "cell_type": "code",
   "execution_count": null,
   "id": "74fdfd83-b56b-43ca-90e1-2939e748c42b",
   "metadata": {},
   "outputs": [],
   "source": [
    "# Eliminar registros de edad atipicos y filtrar\n",
    "df = df[df[\"Age\"] >= 18]"
   ]
  },
  {
   "cell_type": "code",
   "execution_count": null,
   "id": "3eb7e493-1e53-4fe6-b2d8-b91fb33aa1b1",
   "metadata": {},
   "outputs": [],
   "source": [
    "# Eliminar columnas que ya no se necesitan\n",
    "\n",
    "df.drop(columns = [\"Spending_Score_es_outlier\", \"Age_es_outlier\", \"Annual_Income_USD_es_outlier\"], inplace = True)"
   ]
  },
  {
   "cell_type": "code",
   "execution_count": null,
   "id": "81ac15d9-4052-49f8-ad96-3e06eec9bad1",
   "metadata": {},
   "outputs": [],
   "source": [
    "# Gurdar CSV limpio\n",
    "\n",
    "df.to_csv(\"C:/Users/migue/OneDrive/Escritorio/Analisis Datos/Semana_5/data/clientes_ecommerce_limpio.csv\", index = False)"
   ]
  },
  {
   "cell_type": "code",
   "execution_count": null,
   "id": "3eefd2d0-bb7b-4803-bfce-7bfcec967b9c",
   "metadata": {},
   "outputs": [],
   "source": [
    "# Histplot y boxplot de Age\n",
    "\n",
    "import seaborn as sns\n",
    "import matplotlib.pyplot as plt\n",
    "\n",
    "plt.figure(figsize = (12,4))\n",
    "\n",
    "plt.subplot(1, 2, 1)\n",
    "sns.histplot(df[\"Age\"], bins = 30, kde = True, color = \"skyblue\" )\n",
    "plt.title(\"Histograma de Edad\")\n",
    "plt.xlabel(\"Edad\")\n",
    "plt.ylabel(\"Frecuencia\")\n",
    "\n",
    "plt.subplot(1, 2, 2)\n",
    "sns.boxplot(x = df[\"Age\"], color = 'salmon')\n",
    "plt.title(\"Boxplot de Edad\")\n",
    "\n",
    "plt.savefig(\"C:/Users/migue/OneDrive/Escritorio/Analisis Datos/Semana_5/img/histplot_boxplot_age\")\n",
    "plt.show()"
   ]
  },
  {
   "cell_type": "code",
   "execution_count": null,
   "id": "9433fe2a-6e63-4185-9090-aede0e159c8a",
   "metadata": {},
   "outputs": [],
   "source": [
    "# Histplot y boxplot de Annual_Income_USD\n",
    "\n",
    "import seaborn as sns\n",
    "import matplotlib.pyplot as plt\n",
    "\n",
    "plt.figure(figsize = (12,4))\n",
    "\n",
    "plt.subplot(1, 2, 1)\n",
    "sns.histplot(df[\"Annual_Income_USD\"], bins = 30, kde = True, color = \"skyblue\" )\n",
    "plt.title(\"Distribucion de Ingresos Anuales en USD\")\n",
    "plt.xlabel(\"Ingresos Anuales en USD\")\n",
    "plt.ylabel(\"Frecuencia\")\n",
    "\n",
    "plt.subplot(1, 2, 2)\n",
    "sns.boxplot(x = df[\"Annual_Income_USD\"], color = 'salmon')\n",
    "plt.title(\"Histograma de Ingresos Anuales en USD\")\n",
    "\n",
    "plt.savefig(\"C:/Users/migue/OneDrive/Escritorio/Analisis Datos/Semana_5/img/histplot_boxplot_Annual_Income_USD\")\n",
    "plt.show()"
   ]
  },
  {
   "cell_type": "code",
   "execution_count": null,
   "id": "25464add-fd64-4439-b29a-841befa644c3",
   "metadata": {},
   "outputs": [],
   "source": [
    "# Histplot y boxplot de Spending_Score\n",
    "\n",
    "import seaborn as sns\n",
    "import matplotlib.pyplot as plt\n",
    "\n",
    "plt.figure(figsize = (12,4))\n",
    "\n",
    "plt.subplot(1, 2, 1)\n",
    "sns.histplot(df[\"Spending_Score\"], bins = 30, kde = True, color = \"skyblue\" )\n",
    "plt.title(\"Distribucion de Puntuación de gasto\")\n",
    "plt.xlabel(\"Puntuación de gasto\")\n",
    "plt.ylabel(\"Frecuencia\")\n",
    "\n",
    "plt.subplot(1, 2, 2)\n",
    "sns.boxplot(x = df[\"Spending_Score\"], color = 'salmon')\n",
    "plt.title(\"Histograma de Puntuación de gasto\")\n",
    "\n",
    "plt.savefig(\"C:/Users/migue/OneDrive/Escritorio/Analisis Datos/Semana_5/img/histplot_boxplot_Spending_Score\")\n",
    "plt.show()"
   ]
  },
  {
   "cell_type": "code",
   "execution_count": null,
   "id": "18610e71-0368-4f8c-a048-1150db96a435",
   "metadata": {},
   "outputs": [],
   "source": [
    "# Distribucion de Edad, Ingreso, Score segun Churned\n",
    "\n",
    "fig, axs = plt.subplots(3, 1, figsize = (10,12))\n",
    "\n",
    "columnas = [\"Age\", \"Annual_Income_USD\", \"Spending_Score\"]\n",
    "colores = [\"#f94144\", \"#577590\"]\n",
    "\n",
    "for i, col in enumerate(columnas):\n",
    "    sns.histplot(\n",
    "\n",
    "        data = df,\n",
    "        x = col,\n",
    "        hue = 'Churned',\n",
    "        kde = True,\n",
    "        bins = 30,\n",
    "        alpha = 0.6,\n",
    "        palette = colores,\n",
    "        ax = axs[i] )\n",
    "\n",
    "    axs[i].set_title(f\"{col} por Churned\")\n",
    "    axs[i].set_xlabel(col)\n",
    "    axs[i].set_ylabel(\"Frecuencia\")\n",
    "    \n",
    "plt.savefig(\"C:/Users/migue/OneDrive/Escritorio/Analisis Datos/Semana_5/img/histplot_age_ss_aiusd_churned\")\n",
    "plt.tight_layout()\n",
    "plt.show()"
   ]
  },
  {
   "cell_type": "code",
   "execution_count": null,
   "id": "0c0491a6-b1b1-4189-ae07-28d5d5e98a92",
   "metadata": {},
   "outputs": [],
   "source": [
    "# Determinar las medias\n",
    "\n",
    "df.groupby(\"Churned\")[[\"Age\", \"Annual_Income_USD\", \"Spending_Score\"]].agg([\"mean\", \"count\", \"std\"])"
   ]
  },
  {
   "cell_type": "code",
   "execution_count": null,
   "id": "1f62c83b-e416-4603-a27a-23920b0c5d5a",
   "metadata": {},
   "outputs": [],
   "source": [
    "# Boxplot de Edad, Ingreso, Score segun la media\n",
    "\n",
    "fig, axs = plt.subplots(3, 1, figsize = (10,20))\n",
    "\n",
    "columnas = [\"Age\", \"Annual_Income_USD\", \"Spending_Score\"]\n",
    "colores = [\"#f94144\", \"#577590\"]\n",
    "\n",
    "for i, col in enumerate(columnas):\n",
    "    sns.boxplot(data = df, x = \"Churned\", y = col, hue=\"Churned\", palette = colores, legend=False, ax=axs[i])\n",
    "    sns.stripplot(data=df, x=\"Churned\", y=col, color='gray', alpha=0.3, jitter=0.2, ax=axs[i])\n",
    "\n",
    "    media_0 = df[df[\"Churned\"] == 0.0][col].mean()\n",
    "    media_1 = df[df[\"Churned\"] == 1.0][col].mean()\n",
    "\n",
    "    # Anotar media sobre cada grupo\n",
    "    axs[i].text(x=0, y=media_0 + 2, s=f\"Media: {media_0:.2f}\", ha='center', color='black')\n",
    "    axs[i].text(x=1, y=media_1 + 2, s=f\"Media: {media_1:.2f}\", ha='center', color='black')\n",
    "\n",
    "    axs[i].set_title(f\"{col} por grupo de Churned (0 = se quedó, 1 = se fue)\")\n",
    "    axs[i].set_xlabel(\"Churned\")\n",
    "    axs[i].set_ylabel(col)\n",
    "\n",
    "    \n",
    "plt.savefig(\"C:/Users/migue/OneDrive/Escritorio/Analisis Datos/Semana_5/img/boxplot_age_ss_aiusd_mean\")\n",
    "plt.show()"
   ]
  },
  {
   "cell_type": "code",
   "execution_count": null,
   "id": "3a36e3c4-0520-4de2-b18a-170a30d0a2fa",
   "metadata": {},
   "outputs": [],
   "source": [
    "# T -Test (Diferencia entre dos grupos es real o suerte)\n",
    "\n",
    "from scipy.stats import ttest_ind\n",
    "\n",
    "grupo_0 = df[df[\"Churned\"] == 0]\n",
    "grupo_1 = df[df[\"Churned\"] == 1]\n",
    "\n",
    "resultados = {\n",
    "\n",
    "    \"Age\": ttest_ind(grupo_0[\"Age\"], grupo_1[\"Age\"], equal_var=False),\n",
    "    \"Annual_Income_USD\": ttest_ind(grupo_0[\"Annual_Income_USD\"], grupo_1[\"Annual_Income_USD\"], equal_var=False),\n",
    "    \"Spending_Score\": ttest_ind(grupo_0[\"Spending_Score\"], grupo_1[\"Spending_Score\"],equal_var=False)\n",
    "\n",
    "}\n",
    "\n",
    "df_resultados = pd.DataFrame({\n",
    "    \"Variable\": resultados.keys(),\n",
    "    \"t-statistic\": [r.statistic for r in resultados.values()],\n",
    "    \"p-value\": [r.pvalue for r in resultados.values()]\n",
    "})\n",
    "\n",
    "print(df_resultados)"
   ]
  },
  {
   "cell_type": "code",
   "execution_count": null,
   "id": "15f49f6c-75c8-4aaf-8a4d-83f1d3ff9b13",
   "metadata": {},
   "outputs": [],
   "source": [
    "# Heatmap de correlacion\n",
    "\n",
    "df_num = df[[\"Age\", \"Annual_Income_USD\", \"Spending_Score\", \"Churned\"]]\n",
    "correlaciones = df_num.corr()\n",
    "\n",
    "plt.figure(figsize = (8,6))\n",
    "sns.heatmap(\n",
    "    correlaciones,\n",
    "    annot = True, #Mostrar los valores dentro del mapa\n",
    "    cmap = \"coolwarm\", #Colores de azul a rojo\n",
    "    fmt = \".2f\", #Formato a dos decimales\n",
    "    linewidths = 0.5 #Bordes entre casillas\n",
    ")\n",
    "\n",
    "plt.title(\"Mapa de Correlación entre Variables Numéricas\")\n",
    "plt.tight_layout()\n",
    "\n",
    "plt.savefig(\"C:/Users/migue/OneDrive/Escritorio/Analisis Datos/Semana_5/img/heatmap_variables_numericas\")\n",
    "plt.show()\n",
    "\n",
    "\n",
    "    \n",
    "    "
   ]
  },
  {
   "cell_type": "code",
   "execution_count": null,
   "id": "d73a8d78-f6c3-40d7-87a8-87d91b7a6324",
   "metadata": {},
   "outputs": [],
   "source": [
    "# Clustering\n",
    "\n",
    "from sklearn.preprocessing import StandardScaler\n",
    "from sklearn.cluster import KMeans\n",
    "import os\n",
    "os.environ[\"OMP_NUM_THREADS\"] = \"2\"\n",
    "\n",
    "#Seleccionamos solo las variables numéricas que nos interesan para agrupar clientes\n",
    "df_filtrado = df[df[\"Age\"] >= 18].copy()\n",
    "X = df_filtrado[[\"Age\", \"Annual_Income_USD\", \"Spending_Score\"]]\n",
    "\n",
    "# Esto convierte todas las columnas a una misma escala (media 0, desviación 1). Así evitamos que Annual_Income_USD pese más que las otras\n",
    "scaler = StandardScaler()\n",
    "X_scaled = scaler.fit_transform(X)\n",
    "\n",
    "# modelo de K-Means\n",
    "kmeans = KMeans(n_clusters=3, random_state=42, n_init=10)\n",
    "\n",
    "# fit_predict() entrena el modelo y asigna cada cliente a un cluster. Guardamos el número de grupo (0, 1, 2) en una nueva columna \"Cluster\"\n",
    "df[\"Cluster\"] = kmeans.fit_predict(X_scaled)\n",
    "\n",
    "# Contamos cuántos clientes hay en cada grupo\n",
    "conteo_clusters = df_filtrado[\"Cluster\"].value_counts().sort_index()"
   ]
  },
  {
   "cell_type": "code",
   "execution_count": null,
   "id": "856a1c16-5958-4e2b-8ce5-48acc7128894",
   "metadata": {},
   "outputs": [],
   "source": [
    "# Gráfico: ingresos vs. score de gasto, coloreado por cluster\n",
    "plt.figure(figsize=(10, 6))\n",
    "sns.scatterplot(\n",
    "    data=df,\n",
    "    x=\"Annual_Income_USD\",\n",
    "    y=\"Spending_Score\",\n",
    "    hue=\"Cluster\",\n",
    "    palette=\"Set2\",\n",
    "    s=80,\n",
    "    alpha=0.8\n",
    ")\n",
    "\n",
    "plt.title(\"Segmentación de Clientes por Ingreso vs Score de Gasto\")\n",
    "plt.xlabel(\"Ingreso Anual (USD)\")\n",
    "plt.ylabel(\"Spending Score\")\n",
    "plt.legend(title=\"Cluster\")\n",
    "plt.tight_layout()\n",
    "plt.show()"
   ]
  },
  {
   "cell_type": "code",
   "execution_count": null,
   "id": "62d6cdc9-8ea1-4a30-8df7-e622c532c189",
   "metadata": {},
   "outputs": [],
   "source": [
    "#Cruzar clusters con churn\n",
    "df.groupby(\"Cluster\")[\"Churned\"].mean()"
   ]
  },
  {
   "cell_type": "code",
   "execution_count": null,
   "id": "03e62f7d-0265-4920-b639-9201cd781425",
   "metadata": {},
   "outputs": [],
   "source": [
    "#Perfilado por cluster\n",
    "\n",
    "df.groupby(\"Cluster\")[[\"Age\", \"Annual_Income_USD\", \"Spending_Score\"]].mean()"
   ]
  },
  {
   "cell_type": "code",
   "execution_count": null,
   "id": "b53d11e0-676c-4ba6-b49a-f8b2ab4821c6",
   "metadata": {},
   "outputs": [],
   "source": [
    "df_filtrado.to_csv(\"C:/Users/migue/OneDrive/Escritorio/Analisis Datos/Semana_5/data/clientes_segmentados.csv\", index=False)"
   ]
  },
  {
   "cell_type": "code",
   "execution_count": null,
   "id": "de5d9579-8d30-4236-8d31-92188e97a014",
   "metadata": {},
   "outputs": [],
   "source": [
    "# Perfil Promedio Por Cluster\n",
    "\n",
    "df[df[\"Cluster\"] == 2].groupby(\"Churned\")[[\"Age\", \"Annual_Income_USD\"]].mean()"
   ]
  },
  {
   "cell_type": "code",
   "execution_count": null,
   "id": "36b7ea2f-69bc-4bde-af79-013c47a8c636",
   "metadata": {},
   "outputs": [],
   "source": [
    "#cruzamos Cluster con Churned para calcular la tasa de abandono por grupo\n",
    "\n",
    "df.groupby(\"Cluster\")[\"Churned\"].mean()\n"
   ]
  },
  {
   "cell_type": "code",
   "execution_count": null,
   "id": "850285c8-56ed-43e6-8cd4-4dc21f2f6190",
   "metadata": {},
   "outputs": [],
   "source": [
    "# Agrupar por cluster y calcular medias\n",
    "perfil_clusters = df.groupby(\"Cluster\")[[\"Age\", \"Annual_Income_USD\", \"Spending_Score\", \"Churned\"]].mean().reset_index()\n",
    "\n",
    "# Renombrar columnas para que sea más entendible\n",
    "perfil_clusters.columns = [\n",
    "    \"Cluster\",\n",
    "    \"Edad_promedio\",\n",
    "    \"Ingreso_promedio\",\n",
    "    \"Score_promedio\",\n",
    "    \"Tasa_de_Churn\"\n",
    "]\n",
    "\n",
    "# Mostrar resultados\n",
    "print(perfil_clusters)"
   ]
  },
  {
   "cell_type": "code",
   "execution_count": null,
   "id": "8d63508b-fa54-4ae3-929f-f53a7a815fdb",
   "metadata": {},
   "outputs": [],
   "source": [
    "import matplotlib.pyplot as plt\n",
    "import numpy as np\n",
    "\n",
    "# Normalizar los valores de 0 a 1 por columna (para que todo entre en el radar)\n",
    "perfil_normalizado = perfil_clusters.copy()\n",
    "variables = [\"Edad_promedio\", \"Ingreso_promedio\", \"Score_promedio\", \"Tasa_de_Churn\"]\n",
    "\n",
    "for col in variables:\n",
    "    min_val = perfil_clusters[col].min()\n",
    "    max_val = perfil_clusters[col].max()\n",
    "    perfil_normalizado[col] = (perfil_clusters[col] - min_val) / (max_val - min_val)\n",
    "\n",
    "# Preparar datos para radar\n",
    "labels = variables\n",
    "num_vars = len(labels)\n",
    "\n",
    "# Ángulos para cada eje del radar\n",
    "angles = np.linspace(0, 2 * np.pi, num_vars, endpoint=False).tolist()\n",
    "angles += angles[:1]  # cerrar el círculo\n",
    "\n",
    "# Plot\n",
    "plt.figure(figsize=(8, 6))\n",
    "for i, row in perfil_normalizado.iterrows():\n",
    "    valores = row[variables].tolist()\n",
    "    valores += valores[:1]  # cerrar el gráfico\n",
    "    plt.polar(angles, valores, label=f\"Cluster {int(row['Cluster'])}\", linewidth=2)\n",
    "    plt.fill(angles, valores, alpha=0.1)\n",
    "\n",
    "plt.xticks(angles[:-1], labels)\n",
    "plt.title(\"Perfil Promedio Normalizado por Cluster (Radar Chart)\")\n",
    "plt.legend(loc=\"upper right\")\n",
    "plt.tight_layout()\n",
    "plt.show()"
   ]
  },
  {
   "cell_type": "code",
   "execution_count": null,
   "id": "f311b01f-04c5-445a-be5a-6d26aff2aed8",
   "metadata": {},
   "outputs": [],
   "source": [
    "sns.scatterplot(data=df, x=\"Annual_Income_USD\", y=\"Spending_Score\", hue=\"Cluster\")"
   ]
  },
  {
   "cell_type": "code",
   "execution_count": null,
   "id": "b5e3885a-8e1e-4c09-83aa-4e6938fc16da",
   "metadata": {},
   "outputs": [],
   "source": [
    "# Calcular tasa de churn por cluster\n",
    "churn_por_cluster = df.groupby(\"Cluster\")[\"Churned\"].mean().reset_index()\n",
    "churn_por_cluster.columns = [\"Cluster\", \"Tasa_de_Churn\"]\n",
    "\n",
    "# Gráfico de barras horizontales\n",
    "plt.figure(figsize=(8, 5))\n",
    "sns.barplot(\n",
    "    data=churn_por_cluster,\n",
    "    y=\"Cluster\",\n",
    "    x=\"Tasa_de_Churn\",\n",
    "    palette=\"coolwarm\",\n",
    "    hue=\"Tasa_de_Churn\"\n",
    ")\n",
    "plt.title(\"Tasa de Churn por Cluster\")\n",
    "plt.xlabel(\"Tasa de Churn\")\n",
    "plt.ylabel(\"Cluster\")\n",
    "plt.tight_layout()\n",
    "plt.show()"
   ]
  },
  {
   "cell_type": "code",
   "execution_count": null,
   "id": "87e4fcf8-564d-4641-ab7e-ca73a2139a45",
   "metadata": {},
   "outputs": [],
   "source": [
    "import plotly.express as px\n",
    "\n",
    "# Mapa de clientes por pais\n",
    "# Agrupar por país y contar clientes\n",
    "clientes_por_pais = df[\"Country\"].value_counts().reset_index()\n",
    "clientes_por_pais.columns = [\"Country\", \"Clientes\"]\n",
    "\n",
    "# Crear mapa\n",
    "fig = px.choropleth(\n",
    "    clientes_por_pais,\n",
    "    locations=\"Country\",\n",
    "    locationmode=\"country names\",  # O usa \"ISO-3\" si tienes códigos\n",
    "    color=\"Clientes\",\n",
    "    color_continuous_scale=\"Blues\",\n",
    "    title=\"Distribución de Clientes por País\"\n",
    ")\n",
    "fig.show()"
   ]
  },
  {
   "cell_type": "code",
   "execution_count": null,
   "id": "a5442def-320f-4ef6-9d85-16c08a0690fc",
   "metadata": {},
   "outputs": [],
   "source": [
    "perfil_clusters = df.groupby(\"Cluster\")[[\"Age\", \"Annual_Income_USD\", \"Spending_Score\", \"Churned\"]].mean().reset_index()\n",
    "perfil_clusters.columns = [\"Cluster\", \"Edad_promedio\", \"Ingreso_promedio\", \"Score_promedio\", \"Tasa_de_Churn\"]\n",
    "\n",
    "perfil_clusters.to_csv(\"C:/Users/migue/OneDrive/Escritorio/Analisis Datos/Semana_5/data/perfil_clusters.csv\", index=False)"
   ]
  },
  {
   "cell_type": "markdown",
   "id": "af2d36db",
   "metadata": {},
   "source": [
    "## 🧠 Conclusiones\n",
    "\n",
    "- El **Cluster 0** representa a clientes con ingresos bajos pero alto gasto. Son los más rentables y con menor tasa de abandono.\n",
    "- El **Cluster 2** tiene ingresos más altos, pero gasta menos y presenta la tasa de abandono más alta. Podría beneficiarse de estrategias de fidelización.\n",
    "- El **Cluster 1** es neutral en todos los sentidos, con valores intermedios.\n",
    "\n",
    "Estos insights permiten a las empresas **personalizar sus campañas** y **optimizar la retención de clientes** a partir de datos reales."
   ]
  }
 ],
 "metadata": {
  "kernelspec": {
   "display_name": "Python [conda env:base] *",
   "language": "python",
   "name": "conda-base-py"
  },
  "language_info": {
   "codemirror_mode": {
    "name": "ipython",
    "version": 3
   },
   "file_extension": ".py",
   "mimetype": "text/x-python",
   "name": "python",
   "nbconvert_exporter": "python",
   "pygments_lexer": "ipython3",
   "version": "3.12.7"
  }
 },
 "nbformat": 4,
 "nbformat_minor": 5
}
